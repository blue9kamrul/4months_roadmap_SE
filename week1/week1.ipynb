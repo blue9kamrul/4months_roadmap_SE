{
  "nbformat": 4,
  "nbformat_minor": 0,
  "metadata": {
    "colab": {
      "provenance": [],
      "authorship_tag": "ABX9TyOh5tmfE6bRgTHWAOtvFflg",
      "include_colab_link": true
    },
    "kernelspec": {
      "name": "python3",
      "display_name": "Python 3"
    },
    "language_info": {
      "name": "python"
    }
  },
  "cells": [
    {
      "cell_type": "markdown",
      "metadata": {
        "id": "view-in-github",
        "colab_type": "text"
      },
      "source": [
        "<a href=\"https://colab.research.google.com/github/blue9kamrul/4months_roadmap_SE/blob/main/week1/week1.ipynb\" target=\"_parent\"><img src=\"https://colab.research.google.com/assets/colab-badge.svg\" alt=\"Open In Colab\"/></a>"
      ]
    },
    {
      "cell_type": "code",
      "source": [
        "# 16 week roadmap"
      ],
      "metadata": {
        "id": "tOQr-tS2Yvne"
      },
      "execution_count": 5,
      "outputs": []
    },
    {
      "cell_type": "code",
      "source": [
        "arr = [10, 20, 30, 40]\n",
        "print(arr[0])       # O(1)\n",
        "arr.append(50)      # O(1) average\n",
        "arr.remove(20)      # O(n)\n"
      ],
      "metadata": {
        "colab": {
          "base_uri": "https://localhost:8080/"
        },
        "id": "YVOXws2QVgBF",
        "outputId": "d5ba16d2-52fc-4269-83db-112a69216c3d"
      },
      "execution_count": 2,
      "outputs": [
        {
          "output_type": "stream",
          "name": "stdout",
          "text": [
            "10\n"
          ]
        }
      ]
    },
    {
      "cell_type": "code",
      "execution_count": 1,
      "metadata": {
        "colab": {
          "base_uri": "https://localhost:8080/"
        },
        "id": "cXFWxVgtVN_i",
        "outputId": "448aaed9-bd1b-47c2-b981-9d459477e12c"
      },
      "outputs": [
        {
          "output_type": "stream",
          "name": "stdout",
          "text": [
            "h\n",
            "olleh\n",
            "True\n"
          ]
        }
      ],
      "source": [
        "s = \"hello\"\n",
        "print(s[0])        # h\n",
        "print(s[::-1])     # reverse\n",
        "print(\"ell\" in s)"
      ]
    },
    {
      "cell_type": "code",
      "source": [
        "for i in range(5):\n",
        "    print(i)\n",
        "\n",
        "x = 0\n",
        "while x < 5:\n",
        "    print(x)\n",
        "    x += 1\n"
      ],
      "metadata": {
        "colab": {
          "base_uri": "https://localhost:8080/"
        },
        "id": "9k9JZuj2VRVM",
        "outputId": "c51c9001-a569-4a60-9e3c-b4884c9c289d"
      },
      "execution_count": 3,
      "outputs": [
        {
          "output_type": "stream",
          "name": "stdout",
          "text": [
            "0\n",
            "1\n",
            "2\n",
            "3\n",
            "4\n",
            "0\n",
            "1\n",
            "2\n",
            "3\n",
            "4\n"
          ]
        }
      ]
    },
    {
      "cell_type": "code",
      "source": [
        "def add(a, b):\n",
        "    return a + b\n",
        "\n",
        "print(add(2, 3))  # 5\n"
      ],
      "metadata": {
        "colab": {
          "base_uri": "https://localhost:8080/"
        },
        "id": "OZ4kOPcdVvBr",
        "outputId": "be40de1a-861d-4ee1-cdaf-4bd541968da6"
      },
      "execution_count": 4,
      "outputs": [
        {
          "output_type": "stream",
          "name": "stdout",
          "text": [
            "5\n"
          ]
        }
      ]
    },
    {
      "cell_type": "code",
      "source": [
        "# O(1) example\n",
        "def get_first(arr):\n",
        "    return arr[0]\n",
        "\n",
        "# O(n) example\n",
        "def find_sum(arr):\n",
        "    total = 0\n",
        "    for x in arr:\n",
        "        total += x\n",
        "    return total\n",
        "\n",
        "# O(n^2) example\n",
        "def all_pairs(arr):\n",
        "    for i in arr:\n",
        "        for j in arr:\n",
        "            print(i, j)\n"
      ],
      "metadata": {
        "id": "Qe4gCQiqgkTf"
      },
      "execution_count": 6,
      "outputs": []
    },
    {
      "cell_type": "code",
      "source": [],
      "metadata": {
        "id": "JAINLJvfglfm"
      },
      "execution_count": null,
      "outputs": []
    }
  ]
}